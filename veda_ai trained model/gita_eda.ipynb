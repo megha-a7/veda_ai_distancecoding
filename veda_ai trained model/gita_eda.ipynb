{
 "cells": [
  {
   "cell_type": "code",
   "execution_count": 2,
   "metadata": {},
   "outputs": [],
   "source": [
    "import numpy as np\n",
    "import pandas as pd\n",
    "import seaborn as sns\n",
    "import matplotlib.pyplot as plt\n",
    "%matplotlib inline"
   ]
  },
  {
   "cell_type": "code",
   "execution_count": 6,
   "metadata": {},
   "outputs": [],
   "source": [
    "data = pd.read_csv('Bhagvad Gita.csv')"
   ]
  },
  {
   "cell_type": "code",
   "execution_count": 7,
   "metadata": {},
   "outputs": [
    {
     "data": {
      "text/html": [
       "<div>\n",
       "<style scoped>\n",
       "    .dataframe tbody tr th:only-of-type {\n",
       "        vertical-align: middle;\n",
       "    }\n",
       "\n",
       "    .dataframe tbody tr th {\n",
       "        vertical-align: top;\n",
       "    }\n",
       "\n",
       "    .dataframe thead th {\n",
       "        text-align: right;\n",
       "    }\n",
       "</style>\n",
       "<table border=\"1\" class=\"dataframe\">\n",
       "  <thead>\n",
       "    <tr style=\"text-align: right;\">\n",
       "      <th></th>\n",
       "      <th>Chapter No</th>\n",
       "      <th>Verse No</th>\n",
       "      <th>Shloka</th>\n",
       "      <th>English Translation</th>\n",
       "      <th>Explanation</th>\n",
       "    </tr>\n",
       "  </thead>\n",
       "  <tbody>\n",
       "    <tr>\n",
       "      <th>0</th>\n",
       "      <td>1</td>\n",
       "      <td>1</td>\n",
       "      <td>धृतराष्ट्र उवाच | धर्मक्षेत्रे कुरुक्षेत्रे सम...</td>\n",
       "      <td>Dhritarastra said: O Sanjaya, what did my sons...</td>\n",
       "      <td>The two armies had gathered on the battlefield...</td>\n",
       "    </tr>\n",
       "    <tr>\n",
       "      <th>1</th>\n",
       "      <td>1</td>\n",
       "      <td>2</td>\n",
       "      <td>सञ्जय उवाच । दृष्ट्वा तु पाण्डवानीकं व्यूढं दु...</td>\n",
       "      <td>Sanjaya said: But then, seeing the army of the...</td>\n",
       "      <td>Sanjay understood Dhritarashtra’s concern, who...</td>\n",
       "    </tr>\n",
       "    <tr>\n",
       "      <th>2</th>\n",
       "      <td>1</td>\n",
       "      <td>3</td>\n",
       "      <td>पश्यैतां पाण्डुपुत्राणामाचार्य महतीं चमूम् । व...</td>\n",
       "      <td>O teacher, (please) see this vast army of the ...</td>\n",
       "      <td>Duryodhana asked Dronacharya to look at the sk...</td>\n",
       "    </tr>\n",
       "    <tr>\n",
       "      <th>3</th>\n",
       "      <td>1</td>\n",
       "      <td>4</td>\n",
       "      <td>अत्र शूरा महेष्वासा भीमार्जुनसमा युधि | युयुधा...</td>\n",
       "      <td>There are in this army, heroes wielding great ...</td>\n",
       "      <td>Due to his anxiety, the Pandava army seemed mu...</td>\n",
       "    </tr>\n",
       "    <tr>\n",
       "      <th>4</th>\n",
       "      <td>1</td>\n",
       "      <td>5</td>\n",
       "      <td>धृष्टकेतुश्चेकितान: काशिराजश्च वीर्यवान् | पुर...</td>\n",
       "      <td>Dhrstaketu, Cekitana, and the valiant king of ...</td>\n",
       "      <td>Due to his anxiety, the Pandava army seemed mu...</td>\n",
       "    </tr>\n",
       "  </tbody>\n",
       "</table>\n",
       "</div>"
      ],
      "text/plain": [
       "   Chapter No  Verse No                                             Shloka  \\\n",
       "0           1         1  धृतराष्ट्र उवाच | धर्मक्षेत्रे कुरुक्षेत्रे सम...   \n",
       "1           1         2  सञ्जय उवाच । दृष्ट्वा तु पाण्डवानीकं व्यूढं दु...   \n",
       "2           1         3  पश्यैतां पाण्डुपुत्राणामाचार्य महतीं चमूम् । व...   \n",
       "3           1         4  अत्र शूरा महेष्वासा भीमार्जुनसमा युधि | युयुधा...   \n",
       "4           1         5  धृष्टकेतुश्चेकितान: काशिराजश्च वीर्यवान् | पुर...   \n",
       "\n",
       "                                 English Translation  \\\n",
       "0  Dhritarastra said: O Sanjaya, what did my sons...   \n",
       "1  Sanjaya said: But then, seeing the army of the...   \n",
       "2  O teacher, (please) see this vast army of the ...   \n",
       "3  There are in this army, heroes wielding great ...   \n",
       "4  Dhrstaketu, Cekitana, and the valiant king of ...   \n",
       "\n",
       "                                         Explanation  \n",
       "0  The two armies had gathered on the battlefield...  \n",
       "1  Sanjay understood Dhritarashtra’s concern, who...  \n",
       "2  Duryodhana asked Dronacharya to look at the sk...  \n",
       "3  Due to his anxiety, the Pandava army seemed mu...  \n",
       "4  Due to his anxiety, the Pandava army seemed mu...  "
      ]
     },
     "execution_count": 7,
     "metadata": {},
     "output_type": "execute_result"
    }
   ],
   "source": [
    "data.head()  "
   ]
  },
  {
   "cell_type": "code",
   "execution_count": 9,
   "metadata": {},
   "outputs": [
    {
     "data": {
      "text/html": [
       "<div>\n",
       "<style scoped>\n",
       "    .dataframe tbody tr th:only-of-type {\n",
       "        vertical-align: middle;\n",
       "    }\n",
       "\n",
       "    .dataframe tbody tr th {\n",
       "        vertical-align: top;\n",
       "    }\n",
       "\n",
       "    .dataframe thead th {\n",
       "        text-align: right;\n",
       "    }\n",
       "</style>\n",
       "<table border=\"1\" class=\"dataframe\">\n",
       "  <thead>\n",
       "    <tr style=\"text-align: right;\">\n",
       "      <th></th>\n",
       "      <th>Chapter No</th>\n",
       "      <th>Verse No</th>\n",
       "      <th>Shloka</th>\n",
       "      <th>English Translation</th>\n",
       "      <th>Explanation</th>\n",
       "    </tr>\n",
       "  </thead>\n",
       "  <tbody>\n",
       "    <tr>\n",
       "      <th>count</th>\n",
       "      <td>700.000000</td>\n",
       "      <td>700.000000</td>\n",
       "      <td>700</td>\n",
       "      <td>700</td>\n",
       "      <td>694</td>\n",
       "    </tr>\n",
       "    <tr>\n",
       "      <th>unique</th>\n",
       "      <td>NaN</td>\n",
       "      <td>NaN</td>\n",
       "      <td>691</td>\n",
       "      <td>691</td>\n",
       "      <td>633</td>\n",
       "    </tr>\n",
       "    <tr>\n",
       "      <th>top</th>\n",
       "      <td>NaN</td>\n",
       "      <td>NaN</td>\n",
       "      <td>अमी च त्वां धृतराष्ट्रस्य पुत्रा: सर्वे सहैवाव...</td>\n",
       "      <td>And into You (enter) all those sons of Dhrtara...</td>\n",
       "      <td>To gain knowledge of the kṣhetra and kṣhetrajñ...</td>\n",
       "    </tr>\n",
       "    <tr>\n",
       "      <th>freq</th>\n",
       "      <td>NaN</td>\n",
       "      <td>NaN</td>\n",
       "      <td>2</td>\n",
       "      <td>2</td>\n",
       "      <td>5</td>\n",
       "    </tr>\n",
       "    <tr>\n",
       "      <th>mean</th>\n",
       "      <td>9.005714</td>\n",
       "      <td>23.224286</td>\n",
       "      <td>NaN</td>\n",
       "      <td>NaN</td>\n",
       "      <td>NaN</td>\n",
       "    </tr>\n",
       "    <tr>\n",
       "      <th>std</th>\n",
       "      <td>5.589175</td>\n",
       "      <td>16.749599</td>\n",
       "      <td>NaN</td>\n",
       "      <td>NaN</td>\n",
       "      <td>NaN</td>\n",
       "    </tr>\n",
       "    <tr>\n",
       "      <th>min</th>\n",
       "      <td>1.000000</td>\n",
       "      <td>1.000000</td>\n",
       "      <td>NaN</td>\n",
       "      <td>NaN</td>\n",
       "      <td>NaN</td>\n",
       "    </tr>\n",
       "    <tr>\n",
       "      <th>25%</th>\n",
       "      <td>4.000000</td>\n",
       "      <td>10.000000</td>\n",
       "      <td>NaN</td>\n",
       "      <td>NaN</td>\n",
       "      <td>NaN</td>\n",
       "    </tr>\n",
       "    <tr>\n",
       "      <th>50%</th>\n",
       "      <td>9.000000</td>\n",
       "      <td>20.000000</td>\n",
       "      <td>NaN</td>\n",
       "      <td>NaN</td>\n",
       "      <td>NaN</td>\n",
       "    </tr>\n",
       "    <tr>\n",
       "      <th>75%</th>\n",
       "      <td>14.000000</td>\n",
       "      <td>32.000000</td>\n",
       "      <td>NaN</td>\n",
       "      <td>NaN</td>\n",
       "      <td>NaN</td>\n",
       "    </tr>\n",
       "    <tr>\n",
       "      <th>max</th>\n",
       "      <td>18.000000</td>\n",
       "      <td>78.000000</td>\n",
       "      <td>NaN</td>\n",
       "      <td>NaN</td>\n",
       "      <td>NaN</td>\n",
       "    </tr>\n",
       "  </tbody>\n",
       "</table>\n",
       "</div>"
      ],
      "text/plain": [
       "        Chapter No    Verse No  \\\n",
       "count   700.000000  700.000000   \n",
       "unique         NaN         NaN   \n",
       "top            NaN         NaN   \n",
       "freq           NaN         NaN   \n",
       "mean      9.005714   23.224286   \n",
       "std       5.589175   16.749599   \n",
       "min       1.000000    1.000000   \n",
       "25%       4.000000   10.000000   \n",
       "50%       9.000000   20.000000   \n",
       "75%      14.000000   32.000000   \n",
       "max      18.000000   78.000000   \n",
       "\n",
       "                                                   Shloka  \\\n",
       "count                                                 700   \n",
       "unique                                                691   \n",
       "top     अमी च त्वां धृतराष्ट्रस्य पुत्रा: सर्वे सहैवाव...   \n",
       "freq                                                    2   \n",
       "mean                                                  NaN   \n",
       "std                                                   NaN   \n",
       "min                                                   NaN   \n",
       "25%                                                   NaN   \n",
       "50%                                                   NaN   \n",
       "75%                                                   NaN   \n",
       "max                                                   NaN   \n",
       "\n",
       "                                      English Translation  \\\n",
       "count                                                 700   \n",
       "unique                                                691   \n",
       "top     And into You (enter) all those sons of Dhrtara...   \n",
       "freq                                                    2   \n",
       "mean                                                  NaN   \n",
       "std                                                   NaN   \n",
       "min                                                   NaN   \n",
       "25%                                                   NaN   \n",
       "50%                                                   NaN   \n",
       "75%                                                   NaN   \n",
       "max                                                   NaN   \n",
       "\n",
       "                                              Explanation  \n",
       "count                                                 694  \n",
       "unique                                                633  \n",
       "top     To gain knowledge of the kṣhetra and kṣhetrajñ...  \n",
       "freq                                                    5  \n",
       "mean                                                  NaN  \n",
       "std                                                   NaN  \n",
       "min                                                   NaN  \n",
       "25%                                                   NaN  \n",
       "50%                                                   NaN  \n",
       "75%                                                   NaN  \n",
       "max                                                   NaN  "
      ]
     },
     "execution_count": 9,
     "metadata": {},
     "output_type": "execute_result"
    }
   ],
   "source": [
    "data.describe(include='all') "
   ]
  },
  {
   "attachments": {},
   "cell_type": "markdown",
   "metadata": {},
   "source": [
    "The output shows the descriptive statistics of the DataFrame data, including the count, unique values, top value, and frequency for each column. The include='all' argument ensures that both categorical and numeric columns are included in the output.\n",
    "\n",
    "For the numeric columns (Chapter No and Verse No), the output includes the count, mean, standard deviation, minimum value, 25th percentile, 50th percentile (median), 75th percentile, and maximum value.\n",
    "\n",
    "For the categorical column (Shloka), the output includes the count, number of unique values, most frequent value (top), and its frequency.\n",
    "\n",
    "For the other two columns (English Translation and Explanation), since they are not numeric or categorical, the output does not include any statistics for them. Instead, the output shows \"NaN\" (Not a Number) values for these columns.\n",
    "\n",
    "Overall, this output provides a summary of the distribution of values in each column of the DataFrame, which can be helpful for data exploration and understanding."
   ]
  },
  {
   "cell_type": "code",
   "execution_count": 10,
   "metadata": {},
   "outputs": [
    {
     "name": "stdout",
     "output_type": "stream",
     "text": [
      "<class 'pandas.core.frame.DataFrame'>\n",
      "RangeIndex: 700 entries, 0 to 699\n",
      "Data columns (total 5 columns):\n",
      " #   Column               Non-Null Count  Dtype \n",
      "---  ------               --------------  ----- \n",
      " 0   Chapter No           700 non-null    int64 \n",
      " 1   Verse No             700 non-null    int64 \n",
      " 2   Shloka               700 non-null    object\n",
      " 3   English Translation  700 non-null    object\n",
      " 4   Explanation          694 non-null    object\n",
      "dtypes: int64(2), object(3)\n",
      "memory usage: 27.5+ KB\n"
     ]
    }
   ],
   "source": [
    "data.info()"
   ]
  },
  {
   "attachments": {},
   "cell_type": "markdown",
   "metadata": {},
   "source": [
    "This output shows information about the DataFrame, including the number of rows (700) and columns (5), as well as the column names, non-null count, and data type for each column.\n",
    "\n",
    "The Chapter No and Verse No columns are integer data type with non-null count 700, which means all the rows have a value in these columns.\n",
    "\n",
    "The Shloka, English Translation, and Explanation columns are object data type (i.e., string) with non-null count 700 for Shloka and English Translation, and 694 for Explanation. This means that there are 6 missing values in the Explanation column, as its non-null count is less than the total number of rows (700).\n",
    "\n",
    "The memory usage line shows the amount of memory used by the DataFrame, which is approximately 27.5 KB. This can be useful to keep track of memory usage when working with large datasets."
   ]
  },
  {
   "cell_type": "code",
   "execution_count": 12,
   "metadata": {},
   "outputs": [],
   "source": [
    "#taking care of the missing values \n",
    "#every missing value i.e., is unique hence we have to maually replace them \n",
    "#we have only 6 missing value\n",
    "#identifying the rows that contain missing values in the 'Explanation' olumn \n",
    "missing_values = data[\"Explanation\"].isnull()\n"
   ]
  },
  {
   "attachments": {},
   "cell_type": "markdown",
   "metadata": {},
   "source": [
    "To know which rows have missing values in the Explanation column, you can use the isnull() method on the Explanation column and then use the sum() method to count the number of missing values in each column. This will print the total number of missing values in the Explanation column. "
   ]
  },
  {
   "cell_type": "code",
   "execution_count": 14,
   "metadata": {},
   "outputs": [
    {
     "name": "stdout",
     "output_type": "stream",
     "text": [
      "There are 6 missing values in the Explanation column.\n"
     ]
    }
   ],
   "source": [
    "missing_values = data[\"Explanation\"].isnull().sum()\n",
    "print(f\"There are {missing_values} missing values in the Explanation column.\")\n"
   ]
  },
  {
   "attachments": {},
   "cell_type": "markdown",
   "metadata": {},
   "source": [
    "To see which rows have missing values, we can use boolean indexing to select those rows as following code. This will print all the rows that have missing values in the Explanation column, along with the values in the other columns."
   ]
  },
  {
   "cell_type": "code",
   "execution_count": 15,
   "metadata": {},
   "outputs": [
    {
     "name": "stdout",
     "output_type": "stream",
     "text": [
      "    Chapter No  Verse No                                             Shloka  \\\n",
      "7            1         8  भवान्भीष्मश्च कर्णश्च कृपश्च समितिञ्जय: | अश्व...   \n",
      "8            1         9  अन्ये च बहव: शूरा मदर्थे त्यक्तजीविता: | नानाश...   \n",
      "25           1        26  तत्रापश्यत्स्थितान् पार्थ: पितृ नथ पितामहान् |...   \n",
      "41           1        42  सङ्करो नरकायैव कुलघ्नानां कुलस्य च | पतन्ति पि...   \n",
      "42           1        43  दोषैरेतै: कुलघ्नानां वर्णसङ्करकारकै: | उत्साद्...   \n",
      "43           1        44  उत्सन्नकुलधर्माणां मनुष्याणां जनार्दन | नरकेऽन...   \n",
      "\n",
      "                                  English Translation Explanation  \n",
      "7   (They are:) Your venerable self, Bhisma and Ka...         NaN  \n",
      "8   There are many heroes who have dedicated their...         NaN  \n",
      "25  Then Partha (Arjuna) saw, marshalled among bot...         NaN  \n",
      "41  And the intermingling in the family leads the ...         NaN  \n",
      "42  Due to these misdeeds of the ruiners of the fa...         NaN  \n",
      "43  O Janardana, we have heard that living in hell...         NaN  \n"
     ]
    }
   ],
   "source": [
    "missing_rows = data[data[\"Explanation\"].isnull()]\n",
    "print(missing_rows)\n"
   ]
  },
  {
   "attachments": {},
   "cell_type": "markdown",
   "metadata": {},
   "source": [
    "This code assigns explanations for missing values in the \"Explanation\" column of the dataframe.\n",
    "\n",
    "The first line defines a list of indices where there are missing values in the \"Explanation\" column.\n",
    "\n",
    "The second line uses the loc function to select rows with those indices and the \"Explanation\" column, and assigns the corresponding list of explanations to them.\n",
    "\n",
    "The first four explanations are assigned to the rows with indices 7, 8, 25, and 41, respectively. The fifth explanation is assigned to the row with index 42, and the last explanation is assigned to the row with index 43."
   ]
  },
  {
   "cell_type": "code",
   "execution_count": 18,
   "metadata": {},
   "outputs": [],
   "source": [
    "missing_values = [7, 8, 25, 41, 42, 43]\n",
    "\n",
    "data.loc[missing_values, \"Explanation\"] = [    \"There are personalities like yourself, Bheeshma, Karna, Kripa, Ashwatthama, Vikarn, and Bhurishrava, who are ever victorious in battle.\",     \"Also, there are many other heroic warriors, who are prepared to lay down their lives for my sake. They are all skilled in the art of warfare, and equipped with various kinds of weapons.\",    \"Missing explanation\",    \"An increase in unwanted children results in hellish life both for the family and for those who destroy the family. Deprived of sacrificial offerings, the ancestors of such corrupt families also fall.\",    \"Through the evil deeds of those who destroy the family tradition and thus give rise to unwanted progeny, a variety of social and family welfare activities are ruined.\",    \"O Janardan (Krishna), I have heard from the learned that those who destroy family traditions dwell in hell for an indefinite period of time.\"]\n"
   ]
  },
  {
   "cell_type": "code",
   "execution_count": 19,
   "metadata": {},
   "outputs": [
    {
     "name": "stdout",
     "output_type": "stream",
     "text": [
      "<class 'pandas.core.frame.DataFrame'>\n",
      "RangeIndex: 700 entries, 0 to 699\n",
      "Data columns (total 5 columns):\n",
      " #   Column               Non-Null Count  Dtype \n",
      "---  ------               --------------  ----- \n",
      " 0   Chapter No           700 non-null    int64 \n",
      " 1   Verse No             700 non-null    int64 \n",
      " 2   Shloka               700 non-null    object\n",
      " 3   English Translation  700 non-null    object\n",
      " 4   Explanation          700 non-null    object\n",
      "dtypes: int64(2), object(3)\n",
      "memory usage: 27.5+ KB\n"
     ]
    }
   ],
   "source": [
    "#checking for null or missing values \n",
    "data.info()"
   ]
  },
  {
   "attachments": {},
   "cell_type": "markdown",
   "metadata": {},
   "source": [
    "Here we can see there are no missing values in 'Explanation', i.e., from 694 -> 700"
   ]
  },
  {
   "cell_type": "code",
   "execution_count": 20,
   "metadata": {},
   "outputs": [
    {
     "name": "stdout",
     "output_type": "stream",
     "text": [
      "     Chapter No  Verse No  Shloka  English Translation  Explanation\n",
      "0         False     False   False                False        False\n",
      "1         False     False   False                False        False\n",
      "2         False     False   False                False        False\n",
      "3         False     False   False                False        False\n",
      "4         False     False   False                False        False\n",
      "..          ...       ...     ...                  ...          ...\n",
      "695       False     False   False                False        False\n",
      "696       False     False   False                False        False\n",
      "697       False     False   False                False        False\n",
      "698       False     False   False                False        False\n",
      "699       False     False   False                False        False\n",
      "\n",
      "[700 rows x 5 columns]\n",
      "Chapter No             0\n",
      "Verse No               0\n",
      "Shloka                 0\n",
      "English Translation    0\n",
      "Explanation            0\n",
      "dtype: int64\n"
     ]
    }
   ],
   "source": [
    "#checking it again in a different way \n",
    "# check for missing values\n",
    "print(data.isnull())\n",
    "\n",
    "# count the number of missing values in each column\n",
    "print(data.isnull().sum())"
   ]
  },
  {
   "cell_type": "code",
   "execution_count": 21,
   "metadata": {},
   "outputs": [
    {
     "data": {
      "text/html": [
       "<div>\n",
       "<style scoped>\n",
       "    .dataframe tbody tr th:only-of-type {\n",
       "        vertical-align: middle;\n",
       "    }\n",
       "\n",
       "    .dataframe tbody tr th {\n",
       "        vertical-align: top;\n",
       "    }\n",
       "\n",
       "    .dataframe thead th {\n",
       "        text-align: right;\n",
       "    }\n",
       "</style>\n",
       "<table border=\"1\" class=\"dataframe\">\n",
       "  <thead>\n",
       "    <tr style=\"text-align: right;\">\n",
       "      <th></th>\n",
       "      <th>Chapter No</th>\n",
       "      <th>Verse No</th>\n",
       "    </tr>\n",
       "  </thead>\n",
       "  <tbody>\n",
       "    <tr>\n",
       "      <th>count</th>\n",
       "      <td>700.000000</td>\n",
       "      <td>700.000000</td>\n",
       "    </tr>\n",
       "    <tr>\n",
       "      <th>mean</th>\n",
       "      <td>9.005714</td>\n",
       "      <td>23.224286</td>\n",
       "    </tr>\n",
       "    <tr>\n",
       "      <th>std</th>\n",
       "      <td>5.589175</td>\n",
       "      <td>16.749599</td>\n",
       "    </tr>\n",
       "    <tr>\n",
       "      <th>min</th>\n",
       "      <td>1.000000</td>\n",
       "      <td>1.000000</td>\n",
       "    </tr>\n",
       "    <tr>\n",
       "      <th>25%</th>\n",
       "      <td>4.000000</td>\n",
       "      <td>10.000000</td>\n",
       "    </tr>\n",
       "    <tr>\n",
       "      <th>50%</th>\n",
       "      <td>9.000000</td>\n",
       "      <td>20.000000</td>\n",
       "    </tr>\n",
       "    <tr>\n",
       "      <th>75%</th>\n",
       "      <td>14.000000</td>\n",
       "      <td>32.000000</td>\n",
       "    </tr>\n",
       "    <tr>\n",
       "      <th>max</th>\n",
       "      <td>18.000000</td>\n",
       "      <td>78.000000</td>\n",
       "    </tr>\n",
       "  </tbody>\n",
       "</table>\n",
       "</div>"
      ],
      "text/plain": [
       "       Chapter No    Verse No\n",
       "count  700.000000  700.000000\n",
       "mean     9.005714   23.224286\n",
       "std      5.589175   16.749599\n",
       "min      1.000000    1.000000\n",
       "25%      4.000000   10.000000\n",
       "50%      9.000000   20.000000\n",
       "75%     14.000000   32.000000\n",
       "max     18.000000   78.000000"
      ]
     },
     "execution_count": 21,
     "metadata": {},
     "output_type": "execute_result"
    }
   ],
   "source": [
    "#checking again for describing the dataset \n",
    "data.describe()"
   ]
  },
  {
   "attachments": {},
   "cell_type": "markdown",
   "metadata": {},
   "source": [
    "This will save the edited DataFrame to a new csv file called \"edited_data.csv\" in the same directory as your Python script or notebook. The index=False argument specifies that the index column should not be included in the saved csv."
   ]
  },
  {
   "cell_type": "code",
   "execution_count": 22,
   "metadata": {},
   "outputs": [],
   "source": [
    "#saving the edited data\n",
    "data.to_csv('edited_data.csv', index=False)"
   ]
  },
  {
   "cell_type": "code",
   "execution_count": null,
   "metadata": {},
   "outputs": [],
   "source": []
  }
 ],
 "metadata": {
  "kernelspec": {
   "display_name": "Python 3",
   "language": "python",
   "name": "python3"
  },
  "language_info": {
   "codemirror_mode": {
    "name": "ipython",
    "version": 3
   },
   "file_extension": ".py",
   "mimetype": "text/x-python",
   "name": "python",
   "nbconvert_exporter": "python",
   "pygments_lexer": "ipython3",
   "version": "3.11.2"
  },
  "orig_nbformat": 4
 },
 "nbformat": 4,
 "nbformat_minor": 2
}
