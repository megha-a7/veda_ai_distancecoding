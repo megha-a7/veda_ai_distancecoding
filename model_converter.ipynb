{
 "cells": [
  {
   "cell_type": "code",
   "execution_count": null,
   "metadata": {},
   "outputs": [],
   "source": [
    "import openai\n",
    "import os\n",
    "from dotenv import load_dotenv\n",
    "\n",
    "# Load the OpenAI API key from the .env file\n",
    "load_dotenv()\n",
    "api_key = os.getenv(\"OPENAI_API_KEY\")\n",
    "\n",
    "# Set the API key for the OpenAI SDK\n",
    "openai.api_key = api_key\n",
    "\n",
    "# Define a function to ask GPT-3 for a response\n",
    "def ask_gpt(prompt, model, temperature, max_tokens):\n",
    "    response = openai.Completion.create(\n",
    "        engine=model,\n",
    "        prompt=prompt,\n",
    "        temperature=temperature,\n",
    "        max_tokens=max_tokens,\n",
    "        n=1,\n",
    "        stop=None,\n",
    "        frequency_penalty=0,\n",
    "        presence_penalty=0\n",
    "    )\n",
    "    answer = response.choices[0].text.strip()\n",
    "    return answer\n",
    "\n",
    "# Prompt the user to input a question\n",
    "prompt = input(\"Dear friend, how may I help you? \")\n",
    "\n",
    "# Use the question as a prompt to generate a response\n",
    "model = \"text-davinci-003\"\n",
    "temperature = 0.5\n",
    "max_tokens = 1000\n",
    "\n",
    "response = ask_gpt(f\"Using teachings from the Bhagavad Gita, can you provide gentle advice to {prompt}? Please include the chapter and verse from which your response is derived at the end.\", model, temperature, max_tokens)\n",
    "print(response)\n"
   ]
  },
  {
   "cell_type": "code",
   "execution_count": 12,
   "metadata": {},
   "outputs": [],
   "source": [
    "import openai\n",
    "import json\n",
    "\n",
    "model = openai.Model.retrieve(\"text-davinci-003\")\n",
    "model_json = model.to_dict()\n",
    "\n",
    "with open(\"model.json\", \"w\") as outfile:\n",
    "    json.dump(model_json, outfile)\n"
   ]
  }
 ],
 "metadata": {
  "kernelspec": {
   "display_name": "Python 3",
   "language": "python",
   "name": "python3"
  },
  "language_info": {
   "codemirror_mode": {
    "name": "ipython",
    "version": 3
   },
   "file_extension": ".py",
   "mimetype": "text/x-python",
   "name": "python",
   "nbconvert_exporter": "python",
   "pygments_lexer": "ipython3",
   "version": "3.11.2"
  },
  "orig_nbformat": 4
 },
 "nbformat": 4,
 "nbformat_minor": 2
}
